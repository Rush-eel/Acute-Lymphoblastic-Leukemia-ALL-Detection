{
 "cells": [
  {
   "cell_type": "code",
   "execution_count": null,
   "id": "initial_id",
   "metadata": {
    "collapsed": true
   },
   "outputs": [],
   "source": [
    "import os\n",
    "import pickle\n",
    "import pandas as pd\n",
    "import matplotlib.pyplot as plt\n",
    "import numpy as np\n",
    "from sklearnex import patch_sklearn\n",
    "\n",
    "patch_sklearn()\n",
    "\n",
    "from skimage.io import imread\n",
    "from skimage.transform import resize\n",
    "from sklearn.model_selection import train_test_split\n",
    "from sklearn.model_selection import GridSearchCV\n",
    "from sklearn.svm import SVC\n",
    "from sklearn.metrics import accuracy_score"
   ]
  },
  {
   "cell_type": "code",
   "outputs": [],
   "source": [
    "training_data_dir = 'C-NMC_Leukemia/training_data/fold_0'\n",
    "testing_data_dir = 'C-NMC_Leukemia/training_data/fold_1'\n",
    "validation_data_dir = 'C-NMC_Leukemia/training_data/fold_2'\n",
    "categories = ['all', 'hem']\n",
    "data = []\n",
    "labels = []"
   ],
   "metadata": {
    "collapsed": false
   },
   "id": "74f4d9ab620438c3"
  },
  {
   "cell_type": "code",
   "outputs": [],
   "source": [
    "for category_idx, category in enumerate(categories):\n",
    "    for file in os.listdir(os.path.join(training_data_dir, category)):\n",
    "        img_path = os.path.join(training_data_dir, category, file)\n",
    "        img = imread(img_path)\n",
    "        data.append(img.flatten())\n",
    "        labels.append(category_idx)"
   ],
   "metadata": {
    "collapsed": false
   },
   "id": "addf5dff7cec12a8"
  },
  {
   "cell_type": "code",
   "outputs": [],
   "source": [
    "data = np.asarray(data)\n",
    "labels = np.asarray(labels)"
   ],
   "metadata": {
    "collapsed": false
   },
   "id": "5b1e3e7e16aed035"
  },
  {
   "cell_type": "code",
   "outputs": [],
   "source": [
    "x_train, x_test, y_train, y_test = train_test_split(data, labels, test_size=0.2, shuffle=True, stratify=labels)\n",
    "print(\"x_train element shape:\", x_train[0].shape)\n",
    "print(\"x_test element shape:\", x_test[0].shape)\n",
    "print(\"x_train shape:\", x_train.shape)\n",
    "print(\"x_test shape:\", x_test.shape)"
   ],
   "metadata": {
    "collapsed": false
   },
   "id": "56b24e26b4d5ef5f"
  },
  {
   "cell_type": "code",
   "outputs": [],
   "source": [
    "classifier = SVC()"
   ],
   "metadata": {
    "collapsed": false
   },
   "id": "4fa29989858800b4"
  },
  {
   "cell_type": "code",
   "outputs": [],
   "source": [
    "parameters = [{'gamma':  [0.1], 'C': [1, 10]}]\n",
    "\n",
    "grid_search = GridSearchCV(classifier, parameters)"
   ],
   "metadata": {
    "collapsed": false
   },
   "id": "c0bef08aa943b5af"
  },
  {
   "cell_type": "code",
   "outputs": [],
   "source": [
    "grid_search.fit(x_train, y_train)"
   ],
   "metadata": {
    "collapsed": false
   },
   "id": "623703f11017cf07"
  },
  {
   "cell_type": "code",
   "outputs": [],
   "source": [
    "best_estimator = grid_search.best_estimator_\n",
    "\n",
    "y_prediction = best_estimator.predict(x_test)\n",
    "\n",
    "score = accuracy_score(y_prediction, y_test)\n",
    "\n",
    "print(\"{}% of images were classified correctly\".format(str(score * 100)))"
   ],
   "metadata": {
    "collapsed": false
   },
   "id": "2fb3e66ce2cfd903"
  }
 ],
 "metadata": {
  "kernelspec": {
   "display_name": "Python 3",
   "language": "python",
   "name": "python3"
  },
  "language_info": {
   "codemirror_mode": {
    "name": "ipython",
    "version": 2
   },
   "file_extension": ".py",
   "mimetype": "text/x-python",
   "name": "python",
   "nbconvert_exporter": "python",
   "pygments_lexer": "ipython2",
   "version": "2.7.6"
  }
 },
 "nbformat": 4,
 "nbformat_minor": 5
}
